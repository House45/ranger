{
  "nbformat": 4,
  "nbformat_minor": 5,
  "metadata": {
    "kernelspec": {
      "display_name": "Python 3",
      "language": "python",
      "name": "python3"
    },
    "language_info": {
      "codemirror_mode": {
        "name": "ipython",
        "version": 3
      },
      "file_extension": ".py",
      "mimetype": "text/x-python",
      "name": "python",
      "nbconvert_exporter": "python",
      "pygments_lexer": "ipython3",
      "version": "3.8.8"
    },
    "colab": {
      "name": "merged.ipynb",
      "provenance": []
    }
  },
  "cells": [
    {
      "cell_type": "code",
      "metadata": {
        "id": "b2a3c247"
      },
      "source": [
        "import pip\n",
        "from sklearn.model_selection import train_test_split,cross_val_score\n",
        "from sklearn.metrics import confusion_matrix,classification_report,accuracy_score,roc_auc_score"
      ],
      "id": "b2a3c247",
      "execution_count": 88,
      "outputs": []
    },
    {
      "cell_type": "code",
      "metadata": {
        "id": "95a9e3e1"
      },
      "source": [
        "import pandas as pd\n",
        "import numpy as np\n",
        "import pandas.testing as tm\n",
        "import matplotlib.pyplot as plt\n",
        "import pandas as pd\n",
        "from sklearn.model_selection import train_test_split\n",
        "from sklearn.linear_model import LogisticRegression\n",
        "from sklearn.metrics import accuracy_score,roc_auc_score,auc\n",
        "from sklearn.preprocessing import normalize\n",
        "from sklearn.impute import KNNImputer\n",
        "from sklearn import svm, datasets\n",
        "from sklearn import metrics\n",
        "from sklearn.linear_model import LogisticRegression\n",
        "import matplotlib.pyplot as plt\n",
        "import numpy as np\n",
        "from pandas import read_csv\n",
        "from numpy import set_printoptions\n",
        "from sklearn.feature_selection import SelectKBest\n",
        "from sklearn.feature_selection import f_classif"
      ],
      "id": "95a9e3e1",
      "execution_count": 89,
      "outputs": []
    },
    {
      "cell_type": "code",
      "metadata": {
        "id": "522addba"
      },
      "source": [
        "data=pd.read_csv(r'/content/TotalOutcome.csv')"
      ],
      "id": "522addba",
      "execution_count": 90,
      "outputs": []
    },
    {
      "cell_type": "code",
      "metadata": {
        "id": "fadc0405"
      },
      "source": [
        "np.random.seed(1024)"
      ],
      "id": "fadc0405",
      "execution_count": 91,
      "outputs": []
    },
    {
      "cell_type": "code",
      "metadata": {
        "id": "8a9a69c7"
      },
      "source": [
        "y=data.CLASS\n",
        "x=data.drop(\"CLASS\", axis = 1)\n",
        "xcols = x.columns"
      ],
      "id": "8a9a69c7",
      "execution_count": 92,
      "outputs": []
    },
    {
      "cell_type": "code",
      "metadata": {
        "colab": {
          "base_uri": "https://localhost:8080/"
        },
        "id": "vhcpi_1hDKMR",
        "outputId": "01807478-0269-49a9-9f59-b2359baf42a9"
      },
      "source": [
        "!pip install impyute"
      ],
      "id": "vhcpi_1hDKMR",
      "execution_count": 93,
      "outputs": [
        {
          "output_type": "stream",
          "name": "stdout",
          "text": [
            "Requirement already satisfied: impyute in /usr/local/lib/python3.7/dist-packages (0.0.8)\n",
            "Requirement already satisfied: numpy in /usr/local/lib/python3.7/dist-packages (from impyute) (1.19.5)\n",
            "Requirement already satisfied: scikit-learn in /usr/local/lib/python3.7/dist-packages (from impyute) (1.0.1)\n",
            "Requirement already satisfied: scipy in /usr/local/lib/python3.7/dist-packages (from impyute) (1.4.1)\n",
            "Requirement already satisfied: threadpoolctl>=2.0.0 in /usr/local/lib/python3.7/dist-packages (from scikit-learn->impyute) (3.0.0)\n",
            "Requirement already satisfied: joblib>=0.11 in /usr/local/lib/python3.7/dist-packages (from scikit-learn->impyute) (1.1.0)\n"
          ]
        }
      ]
    },
    {
      "cell_type": "code",
      "metadata": {
        "id": "531ee462"
      },
      "source": [
        "import impyute as impy\n",
        "imputed_x=impy.median(x.values)"
      ],
      "id": "531ee462",
      "execution_count": 94,
      "outputs": []
    },
    {
      "cell_type": "code",
      "metadata": {
        "colab": {
          "base_uri": "https://localhost:8080/"
        },
        "id": "92b64896",
        "outputId": "f5822214-dbc3-4994-9764-6dd6f59f1c99"
      },
      "source": [
        " imputed_x"
      ],
      "id": "92b64896",
      "execution_count": 95,
      "outputs": [
        {
          "output_type": "execute_result",
          "data": {
            "text/plain": [
              "array([[1.00000000e+00, 2.87675617e+01, 0.00000000e+00, ...,\n",
              "        1.70000000e+03, 8.00000000e+00, 1.10000000e+00],\n",
              "       [2.00000000e+00, 3.46452328e+01, 0.00000000e+00, ...,\n",
              "        9.00000000e+02, 6.00000000e+01, 1.00000000e+00],\n",
              "       [3.00000000e+00, 2.83921908e+01, 4.10000000e+01, ...,\n",
              "        1.27000000e+03, 1.20000000e+01, 1.10000000e+00],\n",
              "       ...,\n",
              "       [1.57880000e+04, 2.53501703e+01, 0.00000000e+00, ...,\n",
              "        9.40000000e+02, 1.95000000e+02, 1.00000000e+00],\n",
              "       [1.57890000e+04, 3.15060901e+01, 1.54700000e+02, ...,\n",
              "        6.20000000e+02, 1.70000000e+01, 1.10000000e+00],\n",
              "       [1.57910000e+04, 2.42586913e+01, 0.00000000e+00, ...,\n",
              "        9.00000000e+02, 2.40000000e+01, 1.10000000e+00]])"
            ]
          },
          "metadata": {},
          "execution_count": 95
        }
      ]
    },
    {
      "cell_type": "code",
      "metadata": {
        "id": "2b0101f4"
      },
      "source": [
        "imputed_x = pd.DataFrame(imputed_x,columns=xcols)"
      ],
      "id": "2b0101f4",
      "execution_count": 96,
      "outputs": []
    },
    {
      "cell_type": "code",
      "metadata": {
        "colab": {
          "base_uri": "https://localhost:8080/"
        },
        "id": "713b9f19",
        "outputId": "34356a78-f68a-49bc-9dbb-20b2e5723cc6"
      },
      "source": [
        "imputed_x.shape"
      ],
      "id": "713b9f19",
      "execution_count": 97,
      "outputs": [
        {
          "output_type": "execute_result",
          "data": {
            "text/plain": [
              "(13654, 36)"
            ]
          },
          "metadata": {},
          "execution_count": 97
        }
      ]
    },
    {
      "cell_type": "code",
      "metadata": {
        "colab": {
          "base_uri": "https://localhost:8080/"
        },
        "id": "4be47285",
        "outputId": "902d169d-5906-4791-e8a9-eda1d4a34850"
      },
      "source": [
        "imputed_x.isna().sum()"
      ],
      "id": "4be47285",
      "execution_count": 98,
      "outputs": [
        {
          "output_type": "execute_result",
          "data": {
            "text/plain": [
              "ID_C            0\n",
              "BMI01           0\n",
              "ETHANL03        0\n",
              "CIGT01          0\n",
              "MOVE            0\n",
              "P_CARB          0\n",
              "CHOL            0\n",
              "DFIB            0\n",
              "P_PROT          0\n",
              "P_SFAT          0\n",
              "P_TFAT          0\n",
              "TOTCHOL_V1      0\n",
              "CIGTYR01        0\n",
              "CHOLMDCODE01    0\n",
              "DIABTS02        0\n",
              "ELEVEL01        0\n",
              "GENDER          0\n",
              "HDLSIU02        0\n",
              "HYPERT04        0\n",
              "LDLSIU02        0\n",
              "RACEGRP         0\n",
              "TCHSIU01        0\n",
              "TRGSIU01        0\n",
              "V1AGE01         0\n",
              "HYPTMDCODE01    0\n",
              "SBPA21          0\n",
              "SBPA22          0\n",
              "ANTA01          0\n",
              "ANTA07A         0\n",
              "ANTA07B         0\n",
              "ECGMA31         0\n",
              "HMTA03          0\n",
              "APASIU01        0\n",
              "APBSIU01        0\n",
              "LIPA08          0\n",
              "CHMA09          0\n",
              "dtype: int64"
            ]
          },
          "metadata": {},
          "execution_count": 98
        }
      ]
    },
    {
      "cell_type": "code",
      "metadata": {
        "id": "bc4edab7"
      },
      "source": [
        "x_train, x_test, y_train, y_test = train_test_split(imputed_x,y,test_size = 0.2)\n",
        "xcols = x_train.columns\n",
        "xsols = x_test.columns"
      ],
      "id": "bc4edab7",
      "execution_count": 99,
      "outputs": []
    },
    {
      "cell_type": "code",
      "metadata": {
        "id": "33778b69"
      },
      "source": [
        "m1 = x_train.dtypes\n",
        "m2 = x_test.dtypes"
      ],
      "id": "33778b69",
      "execution_count": 100,
      "outputs": []
    },
    {
      "cell_type": "code",
      "metadata": {
        "colab": {
          "base_uri": "https://localhost:8080/"
        },
        "id": "1e648ba5",
        "outputId": "8343e7a3-9417-4938-ee1d-1069b4e6ae03"
      },
      "source": [
        "m1"
      ],
      "id": "1e648ba5",
      "execution_count": 101,
      "outputs": [
        {
          "output_type": "execute_result",
          "data": {
            "text/plain": [
              "ID_C            float64\n",
              "BMI01           float64\n",
              "ETHANL03        float64\n",
              "CIGT01          float64\n",
              "MOVE            float64\n",
              "P_CARB          float64\n",
              "CHOL            float64\n",
              "DFIB            float64\n",
              "P_PROT          float64\n",
              "P_SFAT          float64\n",
              "P_TFAT          float64\n",
              "TOTCHOL_V1      float64\n",
              "CIGTYR01        float64\n",
              "CHOLMDCODE01    float64\n",
              "DIABTS02        float64\n",
              "ELEVEL01        float64\n",
              "GENDER          float64\n",
              "HDLSIU02        float64\n",
              "HYPERT04        float64\n",
              "LDLSIU02        float64\n",
              "RACEGRP         float64\n",
              "TCHSIU01        float64\n",
              "TRGSIU01        float64\n",
              "V1AGE01         float64\n",
              "HYPTMDCODE01    float64\n",
              "SBPA21          float64\n",
              "SBPA22          float64\n",
              "ANTA01          float64\n",
              "ANTA07A         float64\n",
              "ANTA07B         float64\n",
              "ECGMA31         float64\n",
              "HMTA03          float64\n",
              "APASIU01        float64\n",
              "APBSIU01        float64\n",
              "LIPA08          float64\n",
              "CHMA09          float64\n",
              "dtype: object"
            ]
          },
          "metadata": {},
          "execution_count": 101
        }
      ]
    },
    {
      "cell_type": "code",
      "metadata": {
        "colab": {
          "base_uri": "https://localhost:8080/"
        },
        "id": "f5d1abc3",
        "outputId": "f34fe36c-816f-4586-859d-b3eccbc191f8"
      },
      "source": [
        "m2"
      ],
      "id": "f5d1abc3",
      "execution_count": 102,
      "outputs": [
        {
          "output_type": "execute_result",
          "data": {
            "text/plain": [
              "ID_C            float64\n",
              "BMI01           float64\n",
              "ETHANL03        float64\n",
              "CIGT01          float64\n",
              "MOVE            float64\n",
              "P_CARB          float64\n",
              "CHOL            float64\n",
              "DFIB            float64\n",
              "P_PROT          float64\n",
              "P_SFAT          float64\n",
              "P_TFAT          float64\n",
              "TOTCHOL_V1      float64\n",
              "CIGTYR01        float64\n",
              "CHOLMDCODE01    float64\n",
              "DIABTS02        float64\n",
              "ELEVEL01        float64\n",
              "GENDER          float64\n",
              "HDLSIU02        float64\n",
              "HYPERT04        float64\n",
              "LDLSIU02        float64\n",
              "RACEGRP         float64\n",
              "TCHSIU01        float64\n",
              "TRGSIU01        float64\n",
              "V1AGE01         float64\n",
              "HYPTMDCODE01    float64\n",
              "SBPA21          float64\n",
              "SBPA22          float64\n",
              "ANTA01          float64\n",
              "ANTA07A         float64\n",
              "ANTA07B         float64\n",
              "ECGMA31         float64\n",
              "HMTA03          float64\n",
              "APASIU01        float64\n",
              "APBSIU01        float64\n",
              "LIPA08          float64\n",
              "CHMA09          float64\n",
              "dtype: object"
            ]
          },
          "metadata": {},
          "execution_count": 102
        }
      ]
    },
    {
      "cell_type": "code",
      "metadata": {
        "id": "77666585"
      },
      "source": [
        "xpols=x_train.columns\n",
        "xsols=x_test.columns\n",
        "x_train = pd.DataFrame(x_train,columns=xcols)"
      ],
      "id": "77666585",
      "execution_count": 103,
      "outputs": []
    },
    {
      "cell_type": "code",
      "metadata": {
        "colab": {
          "base_uri": "https://localhost:8080/",
          "height": 443
        },
        "id": "427a4248",
        "outputId": "e049a50e-b7ef-4b1f-9bd3-21ad41473e2d"
      },
      "source": [
        "x_train"
      ],
      "id": "427a4248",
      "execution_count": 104,
      "outputs": [
        {
          "output_type": "execute_result",
          "data": {
            "text/html": [
              "<div>\n",
              "<style scoped>\n",
              "    .dataframe tbody tr th:only-of-type {\n",
              "        vertical-align: middle;\n",
              "    }\n",
              "\n",
              "    .dataframe tbody tr th {\n",
              "        vertical-align: top;\n",
              "    }\n",
              "\n",
              "    .dataframe thead th {\n",
              "        text-align: right;\n",
              "    }\n",
              "</style>\n",
              "<table border=\"1\" class=\"dataframe\">\n",
              "  <thead>\n",
              "    <tr style=\"text-align: right;\">\n",
              "      <th></th>\n",
              "      <th>ID_C</th>\n",
              "      <th>BMI01</th>\n",
              "      <th>ETHANL03</th>\n",
              "      <th>CIGT01</th>\n",
              "      <th>MOVE</th>\n",
              "      <th>P_CARB</th>\n",
              "      <th>CHOL</th>\n",
              "      <th>DFIB</th>\n",
              "      <th>P_PROT</th>\n",
              "      <th>P_SFAT</th>\n",
              "      <th>P_TFAT</th>\n",
              "      <th>TOTCHOL_V1</th>\n",
              "      <th>CIGTYR01</th>\n",
              "      <th>CHOLMDCODE01</th>\n",
              "      <th>DIABTS02</th>\n",
              "      <th>ELEVEL01</th>\n",
              "      <th>GENDER</th>\n",
              "      <th>HDLSIU02</th>\n",
              "      <th>HYPERT04</th>\n",
              "      <th>LDLSIU02</th>\n",
              "      <th>RACEGRP</th>\n",
              "      <th>TCHSIU01</th>\n",
              "      <th>TRGSIU01</th>\n",
              "      <th>V1AGE01</th>\n",
              "      <th>HYPTMDCODE01</th>\n",
              "      <th>SBPA21</th>\n",
              "      <th>SBPA22</th>\n",
              "      <th>ANTA01</th>\n",
              "      <th>ANTA07A</th>\n",
              "      <th>ANTA07B</th>\n",
              "      <th>ECGMA31</th>\n",
              "      <th>HMTA03</th>\n",
              "      <th>APASIU01</th>\n",
              "      <th>APBSIU01</th>\n",
              "      <th>LIPA08</th>\n",
              "      <th>CHMA09</th>\n",
              "    </tr>\n",
              "  </thead>\n",
              "  <tbody>\n",
              "    <tr>\n",
              "      <th>9873</th>\n",
              "      <td>11435.0</td>\n",
              "      <td>26.713342</td>\n",
              "      <td>15.1</td>\n",
              "      <td>1.0</td>\n",
              "      <td>6.375</td>\n",
              "      <td>44.361077</td>\n",
              "      <td>119.30</td>\n",
              "      <td>17.64</td>\n",
              "      <td>14.962199</td>\n",
              "      <td>13.359969</td>\n",
              "      <td>43.287386</td>\n",
              "      <td>137.0</td>\n",
              "      <td>290.0</td>\n",
              "      <td>0.0</td>\n",
              "      <td>0.0</td>\n",
              "      <td>3.0</td>\n",
              "      <td>1.0</td>\n",
              "      <td>1.618707</td>\n",
              "      <td>0.0</td>\n",
              "      <td>1.567245</td>\n",
              "      <td>0.0</td>\n",
              "      <td>3.54282</td>\n",
              "      <td>0.77901</td>\n",
              "      <td>45.0</td>\n",
              "      <td>0.0</td>\n",
              "      <td>90.0</td>\n",
              "      <td>41.0</td>\n",
              "      <td>151.0</td>\n",
              "      <td>83.0</td>\n",
              "      <td>102.0</td>\n",
              "      <td>51.0</td>\n",
              "      <td>5.7</td>\n",
              "      <td>1730.0</td>\n",
              "      <td>470.0</td>\n",
              "      <td>69.0</td>\n",
              "      <td>0.9</td>\n",
              "    </tr>\n",
              "    <tr>\n",
              "      <th>5745</th>\n",
              "      <td>6656.0</td>\n",
              "      <td>29.180696</td>\n",
              "      <td>0.0</td>\n",
              "      <td>3.0</td>\n",
              "      <td>7.625</td>\n",
              "      <td>42.932276</td>\n",
              "      <td>353.13</td>\n",
              "      <td>25.07</td>\n",
              "      <td>20.207383</td>\n",
              "      <td>12.579451</td>\n",
              "      <td>38.287968</td>\n",
              "      <td>169.0</td>\n",
              "      <td>0.0</td>\n",
              "      <td>0.0</td>\n",
              "      <td>1.0</td>\n",
              "      <td>2.0</td>\n",
              "      <td>0.0</td>\n",
              "      <td>1.817932</td>\n",
              "      <td>1.0</td>\n",
              "      <td>2.381732</td>\n",
              "      <td>1.0</td>\n",
              "      <td>4.37034</td>\n",
              "      <td>0.37257</td>\n",
              "      <td>50.0</td>\n",
              "      <td>1.0</td>\n",
              "      <td>120.0</td>\n",
              "      <td>77.0</td>\n",
              "      <td>180.0</td>\n",
              "      <td>102.0</td>\n",
              "      <td>107.0</td>\n",
              "      <td>69.0</td>\n",
              "      <td>8.9</td>\n",
              "      <td>1410.0</td>\n",
              "      <td>1030.0</td>\n",
              "      <td>68.0</td>\n",
              "      <td>1.2</td>\n",
              "    </tr>\n",
              "    <tr>\n",
              "      <th>7783</th>\n",
              "      <td>9046.0</td>\n",
              "      <td>30.649891</td>\n",
              "      <td>0.0</td>\n",
              "      <td>1.0</td>\n",
              "      <td>8.250</td>\n",
              "      <td>44.837890</td>\n",
              "      <td>177.35</td>\n",
              "      <td>9.57</td>\n",
              "      <td>18.759363</td>\n",
              "      <td>12.625077</td>\n",
              "      <td>38.077117</td>\n",
              "      <td>204.0</td>\n",
              "      <td>940.0</td>\n",
              "      <td>0.0</td>\n",
              "      <td>1.0</td>\n",
              "      <td>2.0</td>\n",
              "      <td>1.0</td>\n",
              "      <td>0.749940</td>\n",
              "      <td>1.0</td>\n",
              "      <td>2.777364</td>\n",
              "      <td>0.0</td>\n",
              "      <td>5.27544</td>\n",
              "      <td>3.81602</td>\n",
              "      <td>61.0</td>\n",
              "      <td>1.0</td>\n",
              "      <td>130.0</td>\n",
              "      <td>63.0</td>\n",
              "      <td>155.0</td>\n",
              "      <td>101.0</td>\n",
              "      <td>105.0</td>\n",
              "      <td>66.0</td>\n",
              "      <td>7.6</td>\n",
              "      <td>1290.0</td>\n",
              "      <td>1090.0</td>\n",
              "      <td>4.0</td>\n",
              "      <td>0.8</td>\n",
              "    </tr>\n",
              "    <tr>\n",
              "      <th>9854</th>\n",
              "      <td>11414.0</td>\n",
              "      <td>31.508498</td>\n",
              "      <td>167.0</td>\n",
              "      <td>2.0</td>\n",
              "      <td>7.125</td>\n",
              "      <td>38.830500</td>\n",
              "      <td>235.95</td>\n",
              "      <td>6.29</td>\n",
              "      <td>14.051851</td>\n",
              "      <td>13.402481</td>\n",
              "      <td>35.363257</td>\n",
              "      <td>218.0</td>\n",
              "      <td>60.0</td>\n",
              "      <td>0.0</td>\n",
              "      <td>0.0</td>\n",
              "      <td>5.0</td>\n",
              "      <td>0.0</td>\n",
              "      <td>0.846708</td>\n",
              "      <td>0.0</td>\n",
              "      <td>3.730512</td>\n",
              "      <td>0.0</td>\n",
              "      <td>5.63748</td>\n",
              "      <td>2.31445</td>\n",
              "      <td>47.0</td>\n",
              "      <td>0.0</td>\n",
              "      <td>117.0</td>\n",
              "      <td>79.0</td>\n",
              "      <td>188.0</td>\n",
              "      <td>109.0</td>\n",
              "      <td>112.0</td>\n",
              "      <td>63.0</td>\n",
              "      <td>4.5</td>\n",
              "      <td>1190.0</td>\n",
              "      <td>830.0</td>\n",
              "      <td>21.0</td>\n",
              "      <td>1.3</td>\n",
              "    </tr>\n",
              "    <tr>\n",
              "      <th>895</th>\n",
              "      <td>1053.0</td>\n",
              "      <td>25.952983</td>\n",
              "      <td>0.0</td>\n",
              "      <td>1.0</td>\n",
              "      <td>7.125</td>\n",
              "      <td>44.362550</td>\n",
              "      <td>165.54</td>\n",
              "      <td>11.05</td>\n",
              "      <td>18.079197</td>\n",
              "      <td>12.510175</td>\n",
              "      <td>38.343605</td>\n",
              "      <td>251.0</td>\n",
              "      <td>93.0</td>\n",
              "      <td>0.0</td>\n",
              "      <td>0.0</td>\n",
              "      <td>4.0</td>\n",
              "      <td>1.0</td>\n",
              "      <td>1.618707</td>\n",
              "      <td>1.0</td>\n",
              "      <td>4.417017</td>\n",
              "      <td>1.0</td>\n",
              "      <td>6.49086</td>\n",
              "      <td>0.99352</td>\n",
              "      <td>54.0</td>\n",
              "      <td>1.0</td>\n",
              "      <td>152.0</td>\n",
              "      <td>82.0</td>\n",
              "      <td>161.0</td>\n",
              "      <td>85.0</td>\n",
              "      <td>102.0</td>\n",
              "      <td>49.0</td>\n",
              "      <td>9.0</td>\n",
              "      <td>1330.0</td>\n",
              "      <td>900.0</td>\n",
              "      <td>351.0</td>\n",
              "      <td>1.2</td>\n",
              "    </tr>\n",
              "    <tr>\n",
              "      <th>...</th>\n",
              "      <td>...</td>\n",
              "      <td>...</td>\n",
              "      <td>...</td>\n",
              "      <td>...</td>\n",
              "      <td>...</td>\n",
              "      <td>...</td>\n",
              "      <td>...</td>\n",
              "      <td>...</td>\n",
              "      <td>...</td>\n",
              "      <td>...</td>\n",
              "      <td>...</td>\n",
              "      <td>...</td>\n",
              "      <td>...</td>\n",
              "      <td>...</td>\n",
              "      <td>...</td>\n",
              "      <td>...</td>\n",
              "      <td>...</td>\n",
              "      <td>...</td>\n",
              "      <td>...</td>\n",
              "      <td>...</td>\n",
              "      <td>...</td>\n",
              "      <td>...</td>\n",
              "      <td>...</td>\n",
              "      <td>...</td>\n",
              "      <td>...</td>\n",
              "      <td>...</td>\n",
              "      <td>...</td>\n",
              "      <td>...</td>\n",
              "      <td>...</td>\n",
              "      <td>...</td>\n",
              "      <td>...</td>\n",
              "      <td>...</td>\n",
              "      <td>...</td>\n",
              "      <td>...</td>\n",
              "      <td>...</td>\n",
              "      <td>...</td>\n",
              "    </tr>\n",
              "    <tr>\n",
              "      <th>601</th>\n",
              "      <td>696.0</td>\n",
              "      <td>31.227855</td>\n",
              "      <td>162.1</td>\n",
              "      <td>2.0</td>\n",
              "      <td>6.875</td>\n",
              "      <td>62.763194</td>\n",
              "      <td>118.19</td>\n",
              "      <td>16.75</td>\n",
              "      <td>10.909737</td>\n",
              "      <td>6.548243</td>\n",
              "      <td>17.271375</td>\n",
              "      <td>172.0</td>\n",
              "      <td>540.0</td>\n",
              "      <td>1.0</td>\n",
              "      <td>0.0</td>\n",
              "      <td>5.0</td>\n",
              "      <td>0.0</td>\n",
              "      <td>0.946321</td>\n",
              "      <td>1.0</td>\n",
              "      <td>2.405135</td>\n",
              "      <td>0.0</td>\n",
              "      <td>4.44792</td>\n",
              "      <td>2.39348</td>\n",
              "      <td>46.0</td>\n",
              "      <td>1.0</td>\n",
              "      <td>130.0</td>\n",
              "      <td>94.0</td>\n",
              "      <td>174.0</td>\n",
              "      <td>102.0</td>\n",
              "      <td>107.0</td>\n",
              "      <td>72.0</td>\n",
              "      <td>4.7</td>\n",
              "      <td>1040.0</td>\n",
              "      <td>770.0</td>\n",
              "      <td>36.0</td>\n",
              "      <td>1.1</td>\n",
              "    </tr>\n",
              "    <tr>\n",
              "      <th>2661</th>\n",
              "      <td>3081.0</td>\n",
              "      <td>28.348794</td>\n",
              "      <td>331.9</td>\n",
              "      <td>2.0</td>\n",
              "      <td>8.625</td>\n",
              "      <td>43.504504</td>\n",
              "      <td>308.21</td>\n",
              "      <td>11.03</td>\n",
              "      <td>12.732417</td>\n",
              "      <td>11.557213</td>\n",
              "      <td>29.191780</td>\n",
              "      <td>166.0</td>\n",
              "      <td>1200.0</td>\n",
              "      <td>0.0</td>\n",
              "      <td>0.0</td>\n",
              "      <td>2.0</td>\n",
              "      <td>0.0</td>\n",
              "      <td>1.195353</td>\n",
              "      <td>0.0</td>\n",
              "      <td>1.923363</td>\n",
              "      <td>0.0</td>\n",
              "      <td>4.29276</td>\n",
              "      <td>2.56283</td>\n",
              "      <td>50.0</td>\n",
              "      <td>0.0</td>\n",
              "      <td>115.0</td>\n",
              "      <td>73.0</td>\n",
              "      <td>175.0</td>\n",
              "      <td>103.0</td>\n",
              "      <td>102.0</td>\n",
              "      <td>62.0</td>\n",
              "      <td>5.8</td>\n",
              "      <td>1300.0</td>\n",
              "      <td>790.0</td>\n",
              "      <td>55.0</td>\n",
              "      <td>1.1</td>\n",
              "    </tr>\n",
              "    <tr>\n",
              "      <th>2540</th>\n",
              "      <td>2936.0</td>\n",
              "      <td>28.614529</td>\n",
              "      <td>190.7</td>\n",
              "      <td>3.0</td>\n",
              "      <td>6.375</td>\n",
              "      <td>30.799793</td>\n",
              "      <td>189.07</td>\n",
              "      <td>6.42</td>\n",
              "      <td>19.300209</td>\n",
              "      <td>13.831996</td>\n",
              "      <td>35.535630</td>\n",
              "      <td>238.0</td>\n",
              "      <td>0.0</td>\n",
              "      <td>0.0</td>\n",
              "      <td>1.0</td>\n",
              "      <td>5.0</td>\n",
              "      <td>0.0</td>\n",
              "      <td>1.008540</td>\n",
              "      <td>1.0</td>\n",
              "      <td>4.054848</td>\n",
              "      <td>0.0</td>\n",
              "      <td>6.15468</td>\n",
              "      <td>2.38219</td>\n",
              "      <td>59.0</td>\n",
              "      <td>1.0</td>\n",
              "      <td>112.0</td>\n",
              "      <td>77.0</td>\n",
              "      <td>176.0</td>\n",
              "      <td>103.0</td>\n",
              "      <td>105.0</td>\n",
              "      <td>61.0</td>\n",
              "      <td>7.1</td>\n",
              "      <td>1410.0</td>\n",
              "      <td>1200.0</td>\n",
              "      <td>36.0</td>\n",
              "      <td>1.1</td>\n",
              "    </tr>\n",
              "    <tr>\n",
              "      <th>9105</th>\n",
              "      <td>10576.0</td>\n",
              "      <td>26.257686</td>\n",
              "      <td>60.4</td>\n",
              "      <td>2.0</td>\n",
              "      <td>7.250</td>\n",
              "      <td>48.797843</td>\n",
              "      <td>155.87</td>\n",
              "      <td>10.35</td>\n",
              "      <td>18.063397</td>\n",
              "      <td>8.922437</td>\n",
              "      <td>29.023228</td>\n",
              "      <td>219.0</td>\n",
              "      <td>640.0</td>\n",
              "      <td>0.0</td>\n",
              "      <td>0.0</td>\n",
              "      <td>3.0</td>\n",
              "      <td>1.0</td>\n",
              "      <td>1.170449</td>\n",
              "      <td>1.0</td>\n",
              "      <td>3.944659</td>\n",
              "      <td>0.0</td>\n",
              "      <td>5.66334</td>\n",
              "      <td>1.19674</td>\n",
              "      <td>49.0</td>\n",
              "      <td>1.0</td>\n",
              "      <td>165.0</td>\n",
              "      <td>84.0</td>\n",
              "      <td>154.0</td>\n",
              "      <td>91.0</td>\n",
              "      <td>102.0</td>\n",
              "      <td>75.0</td>\n",
              "      <td>8.6</td>\n",
              "      <td>1280.0</td>\n",
              "      <td>1070.0</td>\n",
              "      <td>8.0</td>\n",
              "      <td>0.9</td>\n",
              "    </tr>\n",
              "    <tr>\n",
              "      <th>6075</th>\n",
              "      <td>7035.0</td>\n",
              "      <td>27.656227</td>\n",
              "      <td>0.0</td>\n",
              "      <td>1.0</td>\n",
              "      <td>5.000</td>\n",
              "      <td>56.107548</td>\n",
              "      <td>342.31</td>\n",
              "      <td>13.80</td>\n",
              "      <td>13.884092</td>\n",
              "      <td>11.423620</td>\n",
              "      <td>31.299620</td>\n",
              "      <td>166.0</td>\n",
              "      <td>440.0</td>\n",
              "      <td>0.0</td>\n",
              "      <td>0.0</td>\n",
              "      <td>1.0</td>\n",
              "      <td>0.0</td>\n",
              "      <td>1.867738</td>\n",
              "      <td>0.0</td>\n",
              "      <td>1.969885</td>\n",
              "      <td>1.0</td>\n",
              "      <td>4.29276</td>\n",
              "      <td>0.99352</td>\n",
              "      <td>64.0</td>\n",
              "      <td>0.0</td>\n",
              "      <td>132.0</td>\n",
              "      <td>78.0</td>\n",
              "      <td>172.0</td>\n",
              "      <td>97.0</td>\n",
              "      <td>102.0</td>\n",
              "      <td>61.0</td>\n",
              "      <td>5.6</td>\n",
              "      <td>1470.0</td>\n",
              "      <td>480.0</td>\n",
              "      <td>108.0</td>\n",
              "      <td>1.3</td>\n",
              "    </tr>\n",
              "  </tbody>\n",
              "</table>\n",
              "<p>10923 rows × 36 columns</p>\n",
              "</div>"
            ],
            "text/plain": [
              "         ID_C      BMI01  ETHANL03  CIGT01  ...  APASIU01  APBSIU01  LIPA08  CHMA09\n",
              "9873  11435.0  26.713342      15.1     1.0  ...    1730.0     470.0    69.0     0.9\n",
              "5745   6656.0  29.180696       0.0     3.0  ...    1410.0    1030.0    68.0     1.2\n",
              "7783   9046.0  30.649891       0.0     1.0  ...    1290.0    1090.0     4.0     0.8\n",
              "9854  11414.0  31.508498     167.0     2.0  ...    1190.0     830.0    21.0     1.3\n",
              "895    1053.0  25.952983       0.0     1.0  ...    1330.0     900.0   351.0     1.2\n",
              "...       ...        ...       ...     ...  ...       ...       ...     ...     ...\n",
              "601     696.0  31.227855     162.1     2.0  ...    1040.0     770.0    36.0     1.1\n",
              "2661   3081.0  28.348794     331.9     2.0  ...    1300.0     790.0    55.0     1.1\n",
              "2540   2936.0  28.614529     190.7     3.0  ...    1410.0    1200.0    36.0     1.1\n",
              "9105  10576.0  26.257686      60.4     2.0  ...    1280.0    1070.0     8.0     0.9\n",
              "6075   7035.0  27.656227       0.0     1.0  ...    1470.0     480.0   108.0     1.3\n",
              "\n",
              "[10923 rows x 36 columns]"
            ]
          },
          "metadata": {},
          "execution_count": 104
        }
      ]
    },
    {
      "cell_type": "code",
      "metadata": {
        "id": "c665b372"
      },
      "source": [
        "x_test = pd.DataFrame(x_test,columns=xpols)"
      ],
      "id": "c665b372",
      "execution_count": 105,
      "outputs": []
    },
    {
      "cell_type": "code",
      "metadata": {
        "colab": {
          "base_uri": "https://localhost:8080/",
          "height": 443
        },
        "id": "9c59254d",
        "outputId": "5ae7759a-4f8c-4a2b-e7d9-0811b0950bdc"
      },
      "source": [
        "x_test"
      ],
      "id": "9c59254d",
      "execution_count": 106,
      "outputs": [
        {
          "output_type": "execute_result",
          "data": {
            "text/html": [
              "<div>\n",
              "<style scoped>\n",
              "    .dataframe tbody tr th:only-of-type {\n",
              "        vertical-align: middle;\n",
              "    }\n",
              "\n",
              "    .dataframe tbody tr th {\n",
              "        vertical-align: top;\n",
              "    }\n",
              "\n",
              "    .dataframe thead th {\n",
              "        text-align: right;\n",
              "    }\n",
              "</style>\n",
              "<table border=\"1\" class=\"dataframe\">\n",
              "  <thead>\n",
              "    <tr style=\"text-align: right;\">\n",
              "      <th></th>\n",
              "      <th>ID_C</th>\n",
              "      <th>BMI01</th>\n",
              "      <th>ETHANL03</th>\n",
              "      <th>CIGT01</th>\n",
              "      <th>MOVE</th>\n",
              "      <th>P_CARB</th>\n",
              "      <th>CHOL</th>\n",
              "      <th>DFIB</th>\n",
              "      <th>P_PROT</th>\n",
              "      <th>P_SFAT</th>\n",
              "      <th>P_TFAT</th>\n",
              "      <th>TOTCHOL_V1</th>\n",
              "      <th>CIGTYR01</th>\n",
              "      <th>CHOLMDCODE01</th>\n",
              "      <th>DIABTS02</th>\n",
              "      <th>ELEVEL01</th>\n",
              "      <th>GENDER</th>\n",
              "      <th>HDLSIU02</th>\n",
              "      <th>HYPERT04</th>\n",
              "      <th>LDLSIU02</th>\n",
              "      <th>RACEGRP</th>\n",
              "      <th>TCHSIU01</th>\n",
              "      <th>TRGSIU01</th>\n",
              "      <th>V1AGE01</th>\n",
              "      <th>HYPTMDCODE01</th>\n",
              "      <th>SBPA21</th>\n",
              "      <th>SBPA22</th>\n",
              "      <th>ANTA01</th>\n",
              "      <th>ANTA07A</th>\n",
              "      <th>ANTA07B</th>\n",
              "      <th>ECGMA31</th>\n",
              "      <th>HMTA03</th>\n",
              "      <th>APASIU01</th>\n",
              "      <th>APBSIU01</th>\n",
              "      <th>LIPA08</th>\n",
              "      <th>CHMA09</th>\n",
              "    </tr>\n",
              "  </thead>\n",
              "  <tbody>\n",
              "    <tr>\n",
              "      <th>9835</th>\n",
              "      <td>11394.0</td>\n",
              "      <td>22.369954</td>\n",
              "      <td>0.0</td>\n",
              "      <td>1.0</td>\n",
              "      <td>6.625</td>\n",
              "      <td>12.465220</td>\n",
              "      <td>282.67</td>\n",
              "      <td>5.50</td>\n",
              "      <td>28.590508</td>\n",
              "      <td>29.034104</td>\n",
              "      <td>59.678035</td>\n",
              "      <td>162.0</td>\n",
              "      <td>1350.0</td>\n",
              "      <td>0.0</td>\n",
              "      <td>0.0</td>\n",
              "      <td>5.0</td>\n",
              "      <td>0.0</td>\n",
              "      <td>1.163700</td>\n",
              "      <td>0.0</td>\n",
              "      <td>2.715300</td>\n",
              "      <td>0.0</td>\n",
              "      <td>4.18932</td>\n",
              "      <td>0.67740</td>\n",
              "      <td>59.0</td>\n",
              "      <td>0.0</td>\n",
              "      <td>101.0</td>\n",
              "      <td>61.0</td>\n",
              "      <td>174.0</td>\n",
              "      <td>80.0</td>\n",
              "      <td>92.0</td>\n",
              "      <td>58.0</td>\n",
              "      <td>10.8</td>\n",
              "      <td>1030.0</td>\n",
              "      <td>700.0</td>\n",
              "      <td>258.0</td>\n",
              "      <td>1.0</td>\n",
              "    </tr>\n",
              "    <tr>\n",
              "      <th>13294</th>\n",
              "      <td>15376.0</td>\n",
              "      <td>27.663420</td>\n",
              "      <td>182.3</td>\n",
              "      <td>2.0</td>\n",
              "      <td>8.500</td>\n",
              "      <td>52.124511</td>\n",
              "      <td>81.38</td>\n",
              "      <td>19.24</td>\n",
              "      <td>12.070397</td>\n",
              "      <td>8.932477</td>\n",
              "      <td>24.510221</td>\n",
              "      <td>272.0</td>\n",
              "      <td>360.0</td>\n",
              "      <td>0.0</td>\n",
              "      <td>0.0</td>\n",
              "      <td>5.0</td>\n",
              "      <td>0.0</td>\n",
              "      <td>1.095740</td>\n",
              "      <td>0.0</td>\n",
              "      <td>5.260648</td>\n",
              "      <td>0.0</td>\n",
              "      <td>7.03392</td>\n",
              "      <td>1.47899</td>\n",
              "      <td>61.0</td>\n",
              "      <td>0.0</td>\n",
              "      <td>131.0</td>\n",
              "      <td>88.0</td>\n",
              "      <td>179.0</td>\n",
              "      <td>92.0</td>\n",
              "      <td>102.0</td>\n",
              "      <td>57.0</td>\n",
              "      <td>8.5</td>\n",
              "      <td>1410.0</td>\n",
              "      <td>1470.0</td>\n",
              "      <td>23.0</td>\n",
              "      <td>1.3</td>\n",
              "    </tr>\n",
              "    <tr>\n",
              "      <th>10451</th>\n",
              "      <td>12095.0</td>\n",
              "      <td>26.046142</td>\n",
              "      <td>56.6</td>\n",
              "      <td>2.0</td>\n",
              "      <td>7.500</td>\n",
              "      <td>46.428722</td>\n",
              "      <td>122.74</td>\n",
              "      <td>11.27</td>\n",
              "      <td>17.423890</td>\n",
              "      <td>9.973691</td>\n",
              "      <td>30.353747</td>\n",
              "      <td>157.0</td>\n",
              "      <td>540.0</td>\n",
              "      <td>0.0</td>\n",
              "      <td>0.0</td>\n",
              "      <td>4.0</td>\n",
              "      <td>0.0</td>\n",
              "      <td>2.141673</td>\n",
              "      <td>0.0</td>\n",
              "      <td>1.535619</td>\n",
              "      <td>1.0</td>\n",
              "      <td>4.06002</td>\n",
              "      <td>0.83546</td>\n",
              "      <td>46.0</td>\n",
              "      <td>0.0</td>\n",
              "      <td>120.0</td>\n",
              "      <td>67.0</td>\n",
              "      <td>184.0</td>\n",
              "      <td>97.0</td>\n",
              "      <td>108.0</td>\n",
              "      <td>60.0</td>\n",
              "      <td>6.4</td>\n",
              "      <td>2490.0</td>\n",
              "      <td>560.0</td>\n",
              "      <td>76.0</td>\n",
              "      <td>1.1</td>\n",
              "    </tr>\n",
              "    <tr>\n",
              "      <th>10305</th>\n",
              "      <td>11930.0</td>\n",
              "      <td>26.845963</td>\n",
              "      <td>54.0</td>\n",
              "      <td>3.0</td>\n",
              "      <td>8.125</td>\n",
              "      <td>52.281152</td>\n",
              "      <td>182.12</td>\n",
              "      <td>22.77</td>\n",
              "      <td>21.556806</td>\n",
              "      <td>9.543489</td>\n",
              "      <td>25.280035</td>\n",
              "      <td>180.0</td>\n",
              "      <td>0.0</td>\n",
              "      <td>0.0</td>\n",
              "      <td>0.0</td>\n",
              "      <td>6.0</td>\n",
              "      <td>1.0</td>\n",
              "      <td>1.369675</td>\n",
              "      <td>0.0</td>\n",
              "      <td>2.943773</td>\n",
              "      <td>0.0</td>\n",
              "      <td>4.65480</td>\n",
              "      <td>0.74514</td>\n",
              "      <td>47.0</td>\n",
              "      <td>0.0</td>\n",
              "      <td>115.0</td>\n",
              "      <td>77.0</td>\n",
              "      <td>162.0</td>\n",
              "      <td>99.0</td>\n",
              "      <td>106.0</td>\n",
              "      <td>67.0</td>\n",
              "      <td>8.4</td>\n",
              "      <td>1110.0</td>\n",
              "      <td>980.0</td>\n",
              "      <td>13.0</td>\n",
              "      <td>1.0</td>\n",
              "    </tr>\n",
              "    <tr>\n",
              "      <th>10592</th>\n",
              "      <td>12254.0</td>\n",
              "      <td>28.437202</td>\n",
              "      <td>45.3</td>\n",
              "      <td>2.0</td>\n",
              "      <td>6.750</td>\n",
              "      <td>41.934642</td>\n",
              "      <td>173.44</td>\n",
              "      <td>6.83</td>\n",
              "      <td>15.502389</td>\n",
              "      <td>13.883307</td>\n",
              "      <td>40.341907</td>\n",
              "      <td>176.0</td>\n",
              "      <td>228.0</td>\n",
              "      <td>0.0</td>\n",
              "      <td>0.0</td>\n",
              "      <td>6.0</td>\n",
              "      <td>0.0</td>\n",
              "      <td>1.008540</td>\n",
              "      <td>1.0</td>\n",
              "      <td>3.175608</td>\n",
              "      <td>1.0</td>\n",
              "      <td>4.55136</td>\n",
              "      <td>0.80159</td>\n",
              "      <td>45.0</td>\n",
              "      <td>1.0</td>\n",
              "      <td>104.0</td>\n",
              "      <td>74.0</td>\n",
              "      <td>177.0</td>\n",
              "      <td>99.0</td>\n",
              "      <td>107.0</td>\n",
              "      <td>45.0</td>\n",
              "      <td>5.3</td>\n",
              "      <td>1200.0</td>\n",
              "      <td>930.0</td>\n",
              "      <td>79.0</td>\n",
              "      <td>1.4</td>\n",
              "    </tr>\n",
              "    <tr>\n",
              "      <th>...</th>\n",
              "      <td>...</td>\n",
              "      <td>...</td>\n",
              "      <td>...</td>\n",
              "      <td>...</td>\n",
              "      <td>...</td>\n",
              "      <td>...</td>\n",
              "      <td>...</td>\n",
              "      <td>...</td>\n",
              "      <td>...</td>\n",
              "      <td>...</td>\n",
              "      <td>...</td>\n",
              "      <td>...</td>\n",
              "      <td>...</td>\n",
              "      <td>...</td>\n",
              "      <td>...</td>\n",
              "      <td>...</td>\n",
              "      <td>...</td>\n",
              "      <td>...</td>\n",
              "      <td>...</td>\n",
              "      <td>...</td>\n",
              "      <td>...</td>\n",
              "      <td>...</td>\n",
              "      <td>...</td>\n",
              "      <td>...</td>\n",
              "      <td>...</td>\n",
              "      <td>...</td>\n",
              "      <td>...</td>\n",
              "      <td>...</td>\n",
              "      <td>...</td>\n",
              "      <td>...</td>\n",
              "      <td>...</td>\n",
              "      <td>...</td>\n",
              "      <td>...</td>\n",
              "      <td>...</td>\n",
              "      <td>...</td>\n",
              "      <td>...</td>\n",
              "    </tr>\n",
              "    <tr>\n",
              "      <th>8469</th>\n",
              "      <td>9839.0</td>\n",
              "      <td>51.029176</td>\n",
              "      <td>0.0</td>\n",
              "      <td>3.0</td>\n",
              "      <td>6.875</td>\n",
              "      <td>41.223776</td>\n",
              "      <td>245.41</td>\n",
              "      <td>18.99</td>\n",
              "      <td>23.400100</td>\n",
              "      <td>12.632353</td>\n",
              "      <td>37.477167</td>\n",
              "      <td>180.0</td>\n",
              "      <td>0.0</td>\n",
              "      <td>0.0</td>\n",
              "      <td>1.0</td>\n",
              "      <td>4.0</td>\n",
              "      <td>1.0</td>\n",
              "      <td>1.111980</td>\n",
              "      <td>0.0</td>\n",
              "      <td>2.942868</td>\n",
              "      <td>1.0</td>\n",
              "      <td>4.65480</td>\n",
              "      <td>1.30964</td>\n",
              "      <td>47.0</td>\n",
              "      <td>0.0</td>\n",
              "      <td>129.0</td>\n",
              "      <td>82.0</td>\n",
              "      <td>161.0</td>\n",
              "      <td>149.0</td>\n",
              "      <td>146.0</td>\n",
              "      <td>75.0</td>\n",
              "      <td>3.6</td>\n",
              "      <td>1430.0</td>\n",
              "      <td>1110.0</td>\n",
              "      <td>126.0</td>\n",
              "      <td>0.9</td>\n",
              "    </tr>\n",
              "    <tr>\n",
              "      <th>13014</th>\n",
              "      <td>15061.0</td>\n",
              "      <td>25.350170</td>\n",
              "      <td>0.0</td>\n",
              "      <td>3.0</td>\n",
              "      <td>9.375</td>\n",
              "      <td>50.059695</td>\n",
              "      <td>551.90</td>\n",
              "      <td>26.74</td>\n",
              "      <td>18.075566</td>\n",
              "      <td>14.384779</td>\n",
              "      <td>34.432984</td>\n",
              "      <td>200.0</td>\n",
              "      <td>0.0</td>\n",
              "      <td>0.0</td>\n",
              "      <td>0.0</td>\n",
              "      <td>6.0</td>\n",
              "      <td>1.0</td>\n",
              "      <td>1.525740</td>\n",
              "      <td>1.0</td>\n",
              "      <td>3.165264</td>\n",
              "      <td>1.0</td>\n",
              "      <td>5.17200</td>\n",
              "      <td>1.04997</td>\n",
              "      <td>47.0</td>\n",
              "      <td>1.0</td>\n",
              "      <td>104.0</td>\n",
              "      <td>80.0</td>\n",
              "      <td>164.0</td>\n",
              "      <td>82.0</td>\n",
              "      <td>104.0</td>\n",
              "      <td>53.0</td>\n",
              "      <td>5.0</td>\n",
              "      <td>1460.0</td>\n",
              "      <td>670.0</td>\n",
              "      <td>466.0</td>\n",
              "      <td>1.4</td>\n",
              "    </tr>\n",
              "    <tr>\n",
              "      <th>9925</th>\n",
              "      <td>11495.0</td>\n",
              "      <td>22.432273</td>\n",
              "      <td>92.4</td>\n",
              "      <td>1.0</td>\n",
              "      <td>10.000</td>\n",
              "      <td>53.628835</td>\n",
              "      <td>174.92</td>\n",
              "      <td>12.87</td>\n",
              "      <td>18.676042</td>\n",
              "      <td>8.978309</td>\n",
              "      <td>22.058424</td>\n",
              "      <td>217.0</td>\n",
              "      <td>680.0</td>\n",
              "      <td>0.0</td>\n",
              "      <td>0.0</td>\n",
              "      <td>2.0</td>\n",
              "      <td>0.0</td>\n",
              "      <td>1.111980</td>\n",
              "      <td>1.0</td>\n",
              "      <td>3.997956</td>\n",
              "      <td>0.0</td>\n",
              "      <td>5.61162</td>\n",
              "      <td>1.09513</td>\n",
              "      <td>48.0</td>\n",
              "      <td>1.0</td>\n",
              "      <td>136.0</td>\n",
              "      <td>73.0</td>\n",
              "      <td>172.0</td>\n",
              "      <td>85.0</td>\n",
              "      <td>92.0</td>\n",
              "      <td>60.0</td>\n",
              "      <td>8.1</td>\n",
              "      <td>1410.0</td>\n",
              "      <td>980.0</td>\n",
              "      <td>7.0</td>\n",
              "      <td>1.1</td>\n",
              "    </tr>\n",
              "    <tr>\n",
              "      <th>811</th>\n",
              "      <td>946.0</td>\n",
              "      <td>23.053869</td>\n",
              "      <td>26.4</td>\n",
              "      <td>1.0</td>\n",
              "      <td>6.250</td>\n",
              "      <td>48.153460</td>\n",
              "      <td>161.49</td>\n",
              "      <td>13.66</td>\n",
              "      <td>18.257133</td>\n",
              "      <td>11.915710</td>\n",
              "      <td>34.080298</td>\n",
              "      <td>288.0</td>\n",
              "      <td>725.0</td>\n",
              "      <td>0.0</td>\n",
              "      <td>0.0</td>\n",
              "      <td>2.0</td>\n",
              "      <td>0.0</td>\n",
              "      <td>0.846708</td>\n",
              "      <td>0.0</td>\n",
              "      <td>5.825172</td>\n",
              "      <td>0.0</td>\n",
              "      <td>7.44768</td>\n",
              "      <td>1.69350</td>\n",
              "      <td>47.0</td>\n",
              "      <td>0.0</td>\n",
              "      <td>109.0</td>\n",
              "      <td>75.0</td>\n",
              "      <td>182.0</td>\n",
              "      <td>88.0</td>\n",
              "      <td>93.0</td>\n",
              "      <td>73.0</td>\n",
              "      <td>8.5</td>\n",
              "      <td>790.0</td>\n",
              "      <td>1520.0</td>\n",
              "      <td>52.0</td>\n",
              "      <td>1.2</td>\n",
              "    </tr>\n",
              "    <tr>\n",
              "      <th>2106</th>\n",
              "      <td>2444.0</td>\n",
              "      <td>25.544703</td>\n",
              "      <td>166.0</td>\n",
              "      <td>2.0</td>\n",
              "      <td>6.500</td>\n",
              "      <td>34.812166</td>\n",
              "      <td>166.91</td>\n",
              "      <td>10.52</td>\n",
              "      <td>17.648396</td>\n",
              "      <td>12.560386</td>\n",
              "      <td>33.333333</td>\n",
              "      <td>307.0</td>\n",
              "      <td>160.0</td>\n",
              "      <td>0.0</td>\n",
              "      <td>0.0</td>\n",
              "      <td>3.0</td>\n",
              "      <td>0.0</td>\n",
              "      <td>1.245159</td>\n",
              "      <td>0.0</td>\n",
              "      <td>6.109425</td>\n",
              "      <td>0.0</td>\n",
              "      <td>7.93902</td>\n",
              "      <td>1.27577</td>\n",
              "      <td>58.0</td>\n",
              "      <td>0.0</td>\n",
              "      <td>131.0</td>\n",
              "      <td>81.0</td>\n",
              "      <td>165.0</td>\n",
              "      <td>95.0</td>\n",
              "      <td>96.0</td>\n",
              "      <td>75.0</td>\n",
              "      <td>4.1</td>\n",
              "      <td>1410.0</td>\n",
              "      <td>1490.0</td>\n",
              "      <td>70.0</td>\n",
              "      <td>1.0</td>\n",
              "    </tr>\n",
              "  </tbody>\n",
              "</table>\n",
              "<p>2731 rows × 36 columns</p>\n",
              "</div>"
            ],
            "text/plain": [
              "          ID_C      BMI01  ETHANL03  CIGT01  ...  APASIU01  APBSIU01  LIPA08  CHMA09\n",
              "9835   11394.0  22.369954       0.0     1.0  ...    1030.0     700.0   258.0     1.0\n",
              "13294  15376.0  27.663420     182.3     2.0  ...    1410.0    1470.0    23.0     1.3\n",
              "10451  12095.0  26.046142      56.6     2.0  ...    2490.0     560.0    76.0     1.1\n",
              "10305  11930.0  26.845963      54.0     3.0  ...    1110.0     980.0    13.0     1.0\n",
              "10592  12254.0  28.437202      45.3     2.0  ...    1200.0     930.0    79.0     1.4\n",
              "...        ...        ...       ...     ...  ...       ...       ...     ...     ...\n",
              "8469    9839.0  51.029176       0.0     3.0  ...    1430.0    1110.0   126.0     0.9\n",
              "13014  15061.0  25.350170       0.0     3.0  ...    1460.0     670.0   466.0     1.4\n",
              "9925   11495.0  22.432273      92.4     1.0  ...    1410.0     980.0     7.0     1.1\n",
              "811      946.0  23.053869      26.4     1.0  ...     790.0    1520.0    52.0     1.2\n",
              "2106    2444.0  25.544703     166.0     2.0  ...    1410.0    1490.0    70.0     1.0\n",
              "\n",
              "[2731 rows x 36 columns]"
            ]
          },
          "metadata": {},
          "execution_count": 106
        }
      ]
    },
    {
      "cell_type": "code",
      "metadata": {
        "colab": {
          "base_uri": "https://localhost:8080/"
        },
        "id": "wTRtbyEzAd8w",
        "outputId": "ed1dc3d8-a53a-496f-a49a-af11e2fe3b25"
      },
      "source": [
        "clf = LogisticRegression(C=1.0, penalty= 'l2', solver='liblinear',class_weight='balanced').fit(x_train, y_train)\n",
        "pred_visit_2 = clf.predict(x_test)\n",
        "\n",
        "accuracy_score(pred_visit_2,y_test)"
      ],
      "id": "wTRtbyEzAd8w",
      "execution_count": 108,
      "outputs": [
        {
          "output_type": "execute_result",
          "data": {
            "text/plain": [
              "0.6528744049798608"
            ]
          },
          "metadata": {},
          "execution_count": 108
        }
      ]
    },
    {
      "cell_type": "code",
      "metadata": {
        "colab": {
          "base_uri": "https://localhost:8080/"
        },
        "id": "9520f769",
        "outputId": "45485766-597d-4287-ee56-7c8ce0fc98ed"
      },
      "source": [
        "pred_visit_2 = clf.predict(x_test)\n",
        "accuracy_score(pred_visit_2,y_test)"
      ],
      "id": "9520f769",
      "execution_count": 109,
      "outputs": [
        {
          "output_type": "execute_result",
          "data": {
            "text/plain": [
              "0.6528744049798608"
            ]
          },
          "metadata": {},
          "execution_count": 109
        }
      ]
    },
    {
      "cell_type": "code",
      "metadata": {
        "colab": {
          "base_uri": "https://localhost:8080/"
        },
        "id": "BQfRCJfXJFgu",
        "outputId": "c32c4501-1e3d-4c3b-9e5c-4f27aec3b578"
      },
      "source": [
        "y_test.shape"
      ],
      "id": "BQfRCJfXJFgu",
      "execution_count": 174,
      "outputs": [
        {
          "output_type": "execute_result",
          "data": {
            "text/plain": [
              "(2726,)"
            ]
          },
          "metadata": {},
          "execution_count": 174
        }
      ]
    },
    {
      "cell_type": "code",
      "metadata": {
        "colab": {
          "base_uri": "https://localhost:8080/",
          "height": 265
        },
        "id": "abf38a07",
        "outputId": "08376a24-8059-463a-8e87-5f0f38d77712"
      },
      "source": [
        "%matplotlib inline\n",
        "\n",
        "plt.bar(list(range(1,37)),clf.coef_.ravel())\n",
        "plt.show()\n",
        "plt.close()"
      ],
      "id": "abf38a07",
      "execution_count": 111,
      "outputs": [
        {
          "output_type": "display_data",
          "data": {
            "image/png": "[encoded data removed]",
            "text/plain": [
              "<Figure size 432x288 with 1 Axes>"
            ]
          },
          "metadata": {
            "needs_background": "light"
          }
        }
      ]
    },
    {
      "cell_type": "code",
      "metadata": {
        "colab": {
          "base_uri": "https://localhost:8080/",
          "height": 265
        },
        "id": "VgwWEcozBm0P",
        "outputId": "17f21843-6001-42c6-cd73-943632eacd8a"
      },
      "source": [
        "y_pred_proba = clf.predict_proba(x_test)[::,1]\n",
        "fpr, tpr, _ = metrics.roc_curve(y_test,  y_pred_proba)\n",
        "auc = metrics.roc_auc_score(y_test, y_pred_proba)\n",
        "plt.plot(fpr,tpr,label=\"visit1, auc=\"+str(auc))\n",
        "plt.legend(loc=4)\n",
        "plt.show()"
      ],
      "id": "VgwWEcozBm0P",
      "execution_count": 116,
      "outputs": [
        {
          "output_type": "display_data",
          "data": {
            "image/png": "[encoded data removed]",
            "text/plain": [
              "<Figure size 432x288 with 1 Axes>"
            ]
          },
          "metadata": {
            "needs_background": "light"
          }
        }
      ]
    },
    {
      "cell_type": "code",
      "metadata": {
        "colab": {
          "base_uri": "https://localhost:8080/"
        },
        "id": "cbc6c22a",
        "outputId": "b5b2e53d-93f2-46c6-c376-042c228f8022"
      },
      "source": [
        "confusion_matrix(y_test, pred_visit_1)"
      ],
      "id": "cbc6c22a",
      "execution_count": 113,
      "outputs": [
        {
          "output_type": "execute_result",
          "data": {
            "text/plain": [
              "array([[1315,  705],\n",
              "       [ 274,  437]])"
            ]
          },
          "metadata": {},
          "execution_count": 113
        }
      ]
    },
    {
      "cell_type": "code",
      "metadata": {
        "id": "f3XdsiO-B4iS"
      },
      "source": [
        "fpr, tpr, _ = metrics.roc_curve(y_test,  y_pred_proba)\n",
        "auc = metrics.roc_auc_score(y_test, y_pred_proba)"
      ],
      "id": "f3XdsiO-B4iS",
      "execution_count": 117,
      "outputs": []
    },
    {
      "cell_type": "code",
      "metadata": {
        "colab": {
          "base_uri": "https://localhost:8080/"
        },
        "id": "MezN17-3B4rO",
        "outputId": "cfc78a0f-03e8-4d92-9c13-e0158dd178f0"
      },
      "source": [
        "auc"
      ],
      "id": "MezN17-3B4rO",
      "execution_count": 118,
      "outputs": [
        {
          "output_type": "execute_result",
          "data": {
            "text/plain": [
              "0.6912548216847001"
            ]
          },
          "metadata": {},
          "execution_count": 118
        }
      ]
    },
    {
      "cell_type": "code",
      "metadata": {
        "id": "QhBOl3mwB4z4"
      },
      "source": [
        "test = SelectKBest(score_func=f_classif, k=5)\n",
        "fit = test.fit(imputed_x, y)"
      ],
      "id": "QhBOl3mwB4z4",
      "execution_count": 120,
      "outputs": []
    },
    {
      "cell_type": "code",
      "metadata": {
        "colab": {
          "base_uri": "https://localhost:8080/"
        },
        "id": "jMQoRGeNB48b",
        "outputId": "7a45e039-8a0d-44ba-c221-25db86c06a29"
      },
      "source": [
        "fit.get_feature_names_out(input_features=xcols)"
      ],
      "id": "jMQoRGeNB48b",
      "execution_count": 122,
      "outputs": [
        {
          "output_type": "execute_result",
          "data": {
            "text/plain": [
              "array(['DIABTS02', 'GENDER', 'HDLSIU02', 'HYPERT04', 'SBPA21'],\n",
              "      dtype=object)"
            ]
          },
          "metadata": {},
          "execution_count": 122
        }
      ]
    },
    {
      "cell_type": "code",
      "metadata": {
        "id": "Eb-YkwmPB5FZ"
      },
      "source": [
        "fi = {f:score for f,score in zip(range(0,37),fit.scores_.ravel())}"
      ],
      "id": "Eb-YkwmPB5FZ",
      "execution_count": 123,
      "outputs": []
    },
    {
      "cell_type": "code",
      "metadata": {
        "id": "-JEChbdACsSe"
      },
      "source": [
        "import operator\n",
        "sorted_x = sorted(fi.items(), key=operator.itemgetter(1),reverse=True)"
      ],
      "id": "-JEChbdACsSe",
      "execution_count": 124,
      "outputs": []
    },
    {
      "cell_type": "code",
      "metadata": {
        "colab": {
          "base_uri": "https://localhost:8080/",
          "height": 320
        },
        "id": "0TCCz5raF4Xr",
        "outputId": "67b3ba16-7c3f-4af9-9dd9-33192a8a2857"
      },
      "source": [
        "import numpy as np\n",
        "import matplotlib.pyplot as plt\n",
        "popularity_data = sorted_x[:10]\n",
        "\n",
        "people = list(zip(*popularity_data))[0]\n",
        "score = list(zip(*popularity_data))[1]\n",
        "x_pos = np.arange(len(people)) \n",
        "\n",
        "plt.figure(figsize=(10,5))\n",
        "plt.bar(xcols[list(people)],score)\n",
        "plt.xticks(xcols[list(people)])\n",
        "plt.show()"
      ],
      "id": "0TCCz5raF4Xr",
      "execution_count": 129,
      "outputs": [
        {
          "output_type": "display_data",
          "data": {
            "image/png": "[encoded data removed]",
            "text/plain": [
              "<Figure size 720x360 with 1 Axes>"
            ]
          },
          "metadata": {
            "needs_background": "light"
          }
        }
      ]
    },
    {
      "cell_type": "code",
      "metadata": {
        "id": "9bf608c5"
      },
      "source": [
        "data2=pd.read_csv('/content/visit2_TotalOutcome (2) (1).csv')"
      ],
      "id": "9bf608c5",
      "execution_count": 130,
      "outputs": []
    },
    {
      "cell_type": "code",
      "metadata": {
        "id": "3db6a83b"
      },
      "source": [
        "np.random.seed(1024)"
      ],
      "id": "3db6a83b",
      "execution_count": 131,
      "outputs": []
    },
    {
      "cell_type": "code",
      "metadata": {
        "id": "6f80e411"
      },
      "source": [
        "y2=data2.CLASS\n",
        "x2=data2.drop(\"CLASS\", axis = 1)\n",
        "z=x2.drop(\"MOVE\", axis = 1)\n",
        "a=z.drop(\"LIPA08\", axis = 1)\n",
        "b=a.drop(\"CHMA09\", axis = 1)\n",
        "c=b.drop(\"HMTA03\", axis = 1)\n",
        "ccols = c.columns"
      ],
      "id": "6f80e411",
      "execution_count": 163,
      "outputs": []
    },
    {
      "cell_type": "code",
      "metadata": {
        "id": "37e044b7"
      },
      "source": [
        "import impyute as impy\n",
        "imputed_c=impy.median(c.values)"
      ],
      "id": "37e044b7",
      "execution_count": 149,
      "outputs": []
    },
    {
      "cell_type": "code",
      "metadata": {
        "id": "7eb4c36b",
        "colab": {
          "base_uri": "https://localhost:8080/"
        },
        "outputId": "ed52bdaa-fe6b-4bf0-e385-9655c18ff86e"
      },
      "source": [
        " imputed_c"
      ],
      "id": "7eb4c36b",
      "execution_count": 150,
      "outputs": [
        {
          "output_type": "execute_result",
          "data": {
            "text/plain": [
              "array([[1.00000000e+00, 2.91271562e+01, 0.00000000e+00, ...,\n",
              "        3.00000000e+00, 1.59000000e+02, 1.00000000e+00],\n",
              "       [2.00000000e+00, 3.43072305e+01, 0.00000000e+00, ...,\n",
              "        2.00000000e+00, 1.64000000e+02, 0.00000000e+00],\n",
              "       [3.00000000e+00, 3.29552215e+01, 5.66000000e+01, ...,\n",
              "        2.00000000e+00, 1.64000000e+02, 0.00000000e+00],\n",
              "       ...,\n",
              "       [1.57860000e+04, 3.06425574e+01, 0.00000000e+00, ...,\n",
              "        3.00000000e+00, 1.79000000e+02, 0.00000000e+00],\n",
              "       [1.57870000e+04, 3.69973173e+01, 0.00000000e+00, ...,\n",
              "        1.00000000e+00, 1.67000000e+02, 0.00000000e+00],\n",
              "       [1.57890000e+04, 3.39803904e+01, 7.99700000e+02, ...,\n",
              "        3.00000000e+00, 1.66000000e+02, 0.00000000e+00]])"
            ]
          },
          "metadata": {},
          "execution_count": 150
        }
      ]
    },
    {
      "cell_type": "code",
      "metadata": {
        "id": "a2e4008c"
      },
      "source": [
        "imputed_c = pd.DataFrame(imputed_c,columns=ccols)"
      ],
      "id": "a2e4008c",
      "execution_count": 151,
      "outputs": []
    },
    {
      "cell_type": "code",
      "metadata": {
        "id": "c9563ed9",
        "colab": {
          "base_uri": "https://localhost:8080/"
        },
        "outputId": "ec55d492-f091-4dc2-a402-2ee8d466e8f1"
      },
      "source": [
        "imputed_c.shape"
      ],
      "id": "c9563ed9",
      "execution_count": 170,
      "outputs": [
        {
          "output_type": "execute_result",
          "data": {
            "text/plain": [
              "(13626, 38)"
            ]
          },
          "metadata": {},
          "execution_count": 170
        }
      ]
    },
    {
      "cell_type": "code",
      "metadata": {
        "id": "4261e920",
        "colab": {
          "base_uri": "https://localhost:8080/"
        },
        "outputId": "cb051ada-2d33-4d5e-f174-8d3b885f5da7"
      },
      "source": [
        "imputed_c.isna().sum()"
      ],
      "id": "4261e920",
      "execution_count": 153,
      "outputs": [
        {
          "output_type": "execute_result",
          "data": {
            "text/plain": [
              "ID_C              0\n",
              "BMI21             0\n",
              "ETHANL24          0\n",
              "CIGT21            0\n",
              "CURSMK21          0\n",
              "CARB              0\n",
              "CHOL              0\n",
              "DFIB              0\n",
              "PROT              0\n",
              "SFAT              0\n",
              "TFAT              0\n",
              "TCAL              0\n",
              "HDLSIU21          0\n",
              "LDLSIU22          0\n",
              "TCHSIU21          0\n",
              "TRGSIU21          0\n",
              "SBPB15            0\n",
              "SBPB16            0\n",
              "ANTB04A           0\n",
              "ANTB04B           0\n",
              "CGMI24            0\n",
              "APASIU21          0\n",
              "APBSIU21          0\n",
              "HYPTMD21          0\n",
              "ANTICOAGCODE21    0\n",
              "ASPIRINCODE21     0\n",
              "STATINCODE21      0\n",
              "HYPTMDC#N/AD21    0\n",
              "HYPRT24           0\n",
              "CIGTYR01          0\n",
              "V2AG22            0\n",
              "RACGRP            0\n",
              "DIABTS22          0\n",
              "LVL01             0\n",
              "GENDER            0\n",
              "CIGT21.1          0\n",
              "ANTA01            0\n",
              "CHOLMDCCODE21     0\n",
              "dtype: int64"
            ]
          },
          "metadata": {},
          "execution_count": 153
        }
      ]
    },
    {
      "cell_type": "code",
      "metadata": {
        "id": "6a2b2c0e"
      },
      "source": [
        "c_train, c_test, d_train, d_test = train_test_split(imputed_c,y2,test_size = 0.2)\n",
        "ccols = c_train.columns\n",
        "csols = c_test.columns"
      ],
      "id": "6a2b2c0e",
      "execution_count": 175,
      "outputs": []
    },
    {
      "cell_type": "code",
      "metadata": {
        "id": "70e154d1"
      },
      "source": [
        "m1 = c_train.dtypes\n",
        "m2 = c_test.dtypes"
      ],
      "id": "70e154d1",
      "execution_count": 176,
      "outputs": []
    },
    {
      "cell_type": "code",
      "metadata": {
        "id": "5cdaa173"
      },
      "source": [
        "cpols=c_train.columns\n",
        "csols=c_test.columns\n",
        "c_train = pd.DataFrame(c_train,columns=ccols)"
      ],
      "id": "5cdaa173",
      "execution_count": 177,
      "outputs": []
    },
    {
      "cell_type": "code",
      "metadata": {
        "id": "976057ab",
        "colab": {
          "base_uri": "https://localhost:8080/",
          "height": 443
        },
        "outputId": "41c5852b-9ce2-4e83-82af-c987fe84728a"
      },
      "source": [
        "c_train"
      ],
      "id": "976057ab",
      "execution_count": 178,
      "outputs": [
        {
          "output_type": "execute_result",
          "data": {
            "text/html": [
              "<div>\n",
              "<style scoped>\n",
              "    .dataframe tbody tr th:only-of-type {\n",
              "        vertical-align: middle;\n",
              "    }\n",
              "\n",
              "    .dataframe tbody tr th {\n",
              "        vertical-align: top;\n",
              "    }\n",
              "\n",
              "    .dataframe thead th {\n",
              "        text-align: right;\n",
              "    }\n",
              "</style>\n",
              "<table border=\"1\" class=\"dataframe\">\n",
              "  <thead>\n",
              "    <tr style=\"text-align: right;\">\n",
              "      <th></th>\n",
              "      <th>ID_C</th>\n",
              "      <th>BMI21</th>\n",
              "      <th>ETHANL24</th>\n",
              "      <th>CIGT21</th>\n",
              "      <th>CURSMK21</th>\n",
              "      <th>CARB</th>\n",
              "      <th>CHOL</th>\n",
              "      <th>DFIB</th>\n",
              "      <th>PROT</th>\n",
              "      <th>SFAT</th>\n",
              "      <th>TFAT</th>\n",
              "      <th>TCAL</th>\n",
              "      <th>HDLSIU21</th>\n",
              "      <th>LDLSIU22</th>\n",
              "      <th>TCHSIU21</th>\n",
              "      <th>TRGSIU21</th>\n",
              "      <th>SBPB15</th>\n",
              "      <th>SBPB16</th>\n",
              "      <th>ANTB04A</th>\n",
              "      <th>ANTB04B</th>\n",
              "      <th>CGMI24</th>\n",
              "      <th>APASIU21</th>\n",
              "      <th>APBSIU21</th>\n",
              "      <th>HYPTMD21</th>\n",
              "      <th>ANTICOAGCODE21</th>\n",
              "      <th>ASPIRINCODE21</th>\n",
              "      <th>STATINCODE21</th>\n",
              "      <th>HYPTMDC#N/AD21</th>\n",
              "      <th>HYPRT24</th>\n",
              "      <th>CIGTYR01</th>\n",
              "      <th>V2AG22</th>\n",
              "      <th>RACGRP</th>\n",
              "      <th>DIABTS22</th>\n",
              "      <th>LVL01</th>\n",
              "      <th>GENDER</th>\n",
              "      <th>CIGT21.1</th>\n",
              "      <th>ANTA01</th>\n",
              "      <th>CHOLMDCCODE21</th>\n",
              "    </tr>\n",
              "  </thead>\n",
              "  <tbody>\n",
              "    <tr>\n",
              "      <th>6868</th>\n",
              "      <td>7994.0</td>\n",
              "      <td>21.391242</td>\n",
              "      <td>0.0</td>\n",
              "      <td>1.0</td>\n",
              "      <td>1.0</td>\n",
              "      <td>178.745714</td>\n",
              "      <td>201.31</td>\n",
              "      <td>15.405</td>\n",
              "      <td>65.235</td>\n",
              "      <td>17.805</td>\n",
              "      <td>50.22</td>\n",
              "      <td>1460.83</td>\n",
              "      <td>1.18956</td>\n",
              "      <td>4.334136</td>\n",
              "      <td>6.30984</td>\n",
              "      <td>1.71608</td>\n",
              "      <td>136.0</td>\n",
              "      <td>68.0</td>\n",
              "      <td>82.0</td>\n",
              "      <td>90.0</td>\n",
              "      <td>0.0</td>\n",
              "      <td>1380.0</td>\n",
              "      <td>1090.0</td>\n",
              "      <td>0.0</td>\n",
              "      <td>0.0</td>\n",
              "      <td>0.0</td>\n",
              "      <td>0.0</td>\n",
              "      <td>0.0</td>\n",
              "      <td>0.0</td>\n",
              "      <td>40.0</td>\n",
              "      <td>63.0</td>\n",
              "      <td>0.0</td>\n",
              "      <td>0.0</td>\n",
              "      <td>3.0</td>\n",
              "      <td>1.0</td>\n",
              "      <td>1.0</td>\n",
              "      <td>157.0</td>\n",
              "      <td>0.0</td>\n",
              "    </tr>\n",
              "    <tr>\n",
              "      <th>1400</th>\n",
              "      <td>1648.0</td>\n",
              "      <td>24.773534</td>\n",
              "      <td>0.0</td>\n",
              "      <td>3.0</td>\n",
              "      <td>0.0</td>\n",
              "      <td>178.745714</td>\n",
              "      <td>201.31</td>\n",
              "      <td>15.405</td>\n",
              "      <td>65.235</td>\n",
              "      <td>17.805</td>\n",
              "      <td>50.22</td>\n",
              "      <td>1460.83</td>\n",
              "      <td>1.24128</td>\n",
              "      <td>3.708324</td>\n",
              "      <td>5.53404</td>\n",
              "      <td>1.27577</td>\n",
              "      <td>148.0</td>\n",
              "      <td>106.0</td>\n",
              "      <td>99.0</td>\n",
              "      <td>111.0</td>\n",
              "      <td>0.0</td>\n",
              "      <td>1180.0</td>\n",
              "      <td>760.0</td>\n",
              "      <td>1.0</td>\n",
              "      <td>0.0</td>\n",
              "      <td>1.0</td>\n",
              "      <td>0.0</td>\n",
              "      <td>1.0</td>\n",
              "      <td>1.0</td>\n",
              "      <td>0.0</td>\n",
              "      <td>58.0</td>\n",
              "      <td>1.0</td>\n",
              "      <td>0.0</td>\n",
              "      <td>6.0</td>\n",
              "      <td>1.0</td>\n",
              "      <td>3.0</td>\n",
              "      <td>167.0</td>\n",
              "      <td>0.0</td>\n",
              "    </tr>\n",
              "    <tr>\n",
              "      <th>9716</th>\n",
              "      <td>11255.0</td>\n",
              "      <td>26.119929</td>\n",
              "      <td>268.0</td>\n",
              "      <td>1.0</td>\n",
              "      <td>1.0</td>\n",
              "      <td>178.745714</td>\n",
              "      <td>201.31</td>\n",
              "      <td>15.405</td>\n",
              "      <td>65.235</td>\n",
              "      <td>17.805</td>\n",
              "      <td>50.22</td>\n",
              "      <td>1460.83</td>\n",
              "      <td>2.56014</td>\n",
              "      <td>1.934328</td>\n",
              "      <td>4.78410</td>\n",
              "      <td>0.63224</td>\n",
              "      <td>122.0</td>\n",
              "      <td>74.0</td>\n",
              "      <td>83.0</td>\n",
              "      <td>100.0</td>\n",
              "      <td>0.0</td>\n",
              "      <td>2090.0</td>\n",
              "      <td>680.0</td>\n",
              "      <td>1.0</td>\n",
              "      <td>0.0</td>\n",
              "      <td>0.0</td>\n",
              "      <td>0.0</td>\n",
              "      <td>1.0</td>\n",
              "      <td>1.0</td>\n",
              "      <td>555.0</td>\n",
              "      <td>55.0</td>\n",
              "      <td>1.0</td>\n",
              "      <td>0.0</td>\n",
              "      <td>0.0</td>\n",
              "      <td>0.0</td>\n",
              "      <td>1.0</td>\n",
              "      <td>176.0</td>\n",
              "      <td>0.0</td>\n",
              "    </tr>\n",
              "    <tr>\n",
              "      <th>3844</th>\n",
              "      <td>4476.0</td>\n",
              "      <td>25.825343</td>\n",
              "      <td>32.4</td>\n",
              "      <td>2.0</td>\n",
              "      <td>0.0</td>\n",
              "      <td>178.745714</td>\n",
              "      <td>201.31</td>\n",
              "      <td>15.405</td>\n",
              "      <td>65.235</td>\n",
              "      <td>17.805</td>\n",
              "      <td>50.22</td>\n",
              "      <td>1460.83</td>\n",
              "      <td>1.52574</td>\n",
              "      <td>2.885976</td>\n",
              "      <td>5.27544</td>\n",
              "      <td>1.88543</td>\n",
              "      <td>156.0</td>\n",
              "      <td>106.0</td>\n",
              "      <td>81.0</td>\n",
              "      <td>104.0</td>\n",
              "      <td>0.0</td>\n",
              "      <td>1610.0</td>\n",
              "      <td>710.0</td>\n",
              "      <td>1.0</td>\n",
              "      <td>0.0</td>\n",
              "      <td>1.0</td>\n",
              "      <td>0.0</td>\n",
              "      <td>1.0</td>\n",
              "      <td>1.0</td>\n",
              "      <td>200.0</td>\n",
              "      <td>50.0</td>\n",
              "      <td>0.0</td>\n",
              "      <td>0.0</td>\n",
              "      <td>6.0</td>\n",
              "      <td>1.0</td>\n",
              "      <td>2.0</td>\n",
              "      <td>153.0</td>\n",
              "      <td>0.0</td>\n",
              "    </tr>\n",
              "    <tr>\n",
              "      <th>402</th>\n",
              "      <td>467.0</td>\n",
              "      <td>38.138204</td>\n",
              "      <td>0.0</td>\n",
              "      <td>2.0</td>\n",
              "      <td>0.0</td>\n",
              "      <td>178.745714</td>\n",
              "      <td>201.31</td>\n",
              "      <td>15.405</td>\n",
              "      <td>65.235</td>\n",
              "      <td>17.805</td>\n",
              "      <td>50.22</td>\n",
              "      <td>1460.83</td>\n",
              "      <td>0.74994</td>\n",
              "      <td>3.630744</td>\n",
              "      <td>5.40474</td>\n",
              "      <td>2.23542</td>\n",
              "      <td>120.0</td>\n",
              "      <td>68.0</td>\n",
              "      <td>122.0</td>\n",
              "      <td>118.0</td>\n",
              "      <td>0.0</td>\n",
              "      <td>1330.0</td>\n",
              "      <td>1040.0</td>\n",
              "      <td>0.0</td>\n",
              "      <td>0.0</td>\n",
              "      <td>1.0</td>\n",
              "      <td>0.0</td>\n",
              "      <td>0.0</td>\n",
              "      <td>0.0</td>\n",
              "      <td>520.0</td>\n",
              "      <td>51.0</td>\n",
              "      <td>0.0</td>\n",
              "      <td>1.0</td>\n",
              "      <td>3.0</td>\n",
              "      <td>0.0</td>\n",
              "      <td>2.0</td>\n",
              "      <td>167.0</td>\n",
              "      <td>0.0</td>\n",
              "    </tr>\n",
              "    <tr>\n",
              "      <th>...</th>\n",
              "      <td>...</td>\n",
              "      <td>...</td>\n",
              "      <td>...</td>\n",
              "      <td>...</td>\n",
              "      <td>...</td>\n",
              "      <td>...</td>\n",
              "      <td>...</td>\n",
              "      <td>...</td>\n",
              "      <td>...</td>\n",
              "      <td>...</td>\n",
              "      <td>...</td>\n",
              "      <td>...</td>\n",
              "      <td>...</td>\n",
              "      <td>...</td>\n",
              "      <td>...</td>\n",
              "      <td>...</td>\n",
              "      <td>...</td>\n",
              "      <td>...</td>\n",
              "      <td>...</td>\n",
              "      <td>...</td>\n",
              "      <td>...</td>\n",
              "      <td>...</td>\n",
              "      <td>...</td>\n",
              "      <td>...</td>\n",
              "      <td>...</td>\n",
              "      <td>...</td>\n",
              "      <td>...</td>\n",
              "      <td>...</td>\n",
              "      <td>...</td>\n",
              "      <td>...</td>\n",
              "      <td>...</td>\n",
              "      <td>...</td>\n",
              "      <td>...</td>\n",
              "      <td>...</td>\n",
              "      <td>...</td>\n",
              "      <td>...</td>\n",
              "      <td>...</td>\n",
              "      <td>...</td>\n",
              "    </tr>\n",
              "    <tr>\n",
              "      <th>2153</th>\n",
              "      <td>2511.0</td>\n",
              "      <td>30.026784</td>\n",
              "      <td>0.0</td>\n",
              "      <td>3.0</td>\n",
              "      <td>0.0</td>\n",
              "      <td>178.745714</td>\n",
              "      <td>201.31</td>\n",
              "      <td>15.405</td>\n",
              "      <td>65.235</td>\n",
              "      <td>17.805</td>\n",
              "      <td>50.22</td>\n",
              "      <td>1460.83</td>\n",
              "      <td>0.90510</td>\n",
              "      <td>4.080708</td>\n",
              "      <td>5.74092</td>\n",
              "      <td>1.64834</td>\n",
              "      <td>166.0</td>\n",
              "      <td>114.0</td>\n",
              "      <td>103.0</td>\n",
              "      <td>102.0</td>\n",
              "      <td>0.0</td>\n",
              "      <td>810.0</td>\n",
              "      <td>1180.0</td>\n",
              "      <td>1.0</td>\n",
              "      <td>0.0</td>\n",
              "      <td>0.0</td>\n",
              "      <td>0.0</td>\n",
              "      <td>1.0</td>\n",
              "      <td>1.0</td>\n",
              "      <td>0.0</td>\n",
              "      <td>55.0</td>\n",
              "      <td>0.0</td>\n",
              "      <td>0.0</td>\n",
              "      <td>3.0</td>\n",
              "      <td>0.0</td>\n",
              "      <td>3.0</td>\n",
              "      <td>174.0</td>\n",
              "      <td>0.0</td>\n",
              "    </tr>\n",
              "    <tr>\n",
              "      <th>545</th>\n",
              "      <td>640.0</td>\n",
              "      <td>25.688173</td>\n",
              "      <td>56.6</td>\n",
              "      <td>3.0</td>\n",
              "      <td>0.0</td>\n",
              "      <td>178.745714</td>\n",
              "      <td>201.31</td>\n",
              "      <td>15.405</td>\n",
              "      <td>65.235</td>\n",
              "      <td>17.805</td>\n",
              "      <td>50.22</td>\n",
              "      <td>1460.83</td>\n",
              "      <td>3.07734</td>\n",
              "      <td>3.284220</td>\n",
              "      <td>6.74946</td>\n",
              "      <td>0.84675</td>\n",
              "      <td>168.0</td>\n",
              "      <td>110.0</td>\n",
              "      <td>87.0</td>\n",
              "      <td>104.0</td>\n",
              "      <td>0.0</td>\n",
              "      <td>2330.0</td>\n",
              "      <td>800.0</td>\n",
              "      <td>0.0</td>\n",
              "      <td>0.0</td>\n",
              "      <td>0.0</td>\n",
              "      <td>0.0</td>\n",
              "      <td>0.0</td>\n",
              "      <td>0.0</td>\n",
              "      <td>0.0</td>\n",
              "      <td>55.0</td>\n",
              "      <td>1.0</td>\n",
              "      <td>0.0</td>\n",
              "      <td>2.0</td>\n",
              "      <td>1.0</td>\n",
              "      <td>3.0</td>\n",
              "      <td>164.0</td>\n",
              "      <td>0.0</td>\n",
              "    </tr>\n",
              "    <tr>\n",
              "      <th>2795</th>\n",
              "      <td>3253.0</td>\n",
              "      <td>28.866836</td>\n",
              "      <td>0.0</td>\n",
              "      <td>1.0</td>\n",
              "      <td>1.0</td>\n",
              "      <td>178.745714</td>\n",
              "      <td>201.31</td>\n",
              "      <td>15.405</td>\n",
              "      <td>65.235</td>\n",
              "      <td>17.805</td>\n",
              "      <td>50.22</td>\n",
              "      <td>1460.83</td>\n",
              "      <td>1.49988</td>\n",
              "      <td>2.410152</td>\n",
              "      <td>4.31862</td>\n",
              "      <td>0.89191</td>\n",
              "      <td>124.0</td>\n",
              "      <td>72.0</td>\n",
              "      <td>94.0</td>\n",
              "      <td>110.0</td>\n",
              "      <td>0.0</td>\n",
              "      <td>1260.0</td>\n",
              "      <td>680.0</td>\n",
              "      <td>0.0</td>\n",
              "      <td>0.0</td>\n",
              "      <td>1.0</td>\n",
              "      <td>0.0</td>\n",
              "      <td>0.0</td>\n",
              "      <td>0.0</td>\n",
              "      <td>780.0</td>\n",
              "      <td>60.0</td>\n",
              "      <td>0.0</td>\n",
              "      <td>0.0</td>\n",
              "      <td>5.0</td>\n",
              "      <td>1.0</td>\n",
              "      <td>1.0</td>\n",
              "      <td>166.0</td>\n",
              "      <td>0.0</td>\n",
              "    </tr>\n",
              "    <tr>\n",
              "      <th>10447</th>\n",
              "      <td>12089.0</td>\n",
              "      <td>30.312357</td>\n",
              "      <td>250.8</td>\n",
              "      <td>3.0</td>\n",
              "      <td>0.0</td>\n",
              "      <td>178.745714</td>\n",
              "      <td>201.31</td>\n",
              "      <td>15.405</td>\n",
              "      <td>65.235</td>\n",
              "      <td>17.805</td>\n",
              "      <td>50.22</td>\n",
              "      <td>1460.83</td>\n",
              "      <td>0.67236</td>\n",
              "      <td>3.294564</td>\n",
              "      <td>4.93926</td>\n",
              "      <td>2.12252</td>\n",
              "      <td>166.0</td>\n",
              "      <td>110.0</td>\n",
              "      <td>105.0</td>\n",
              "      <td>104.0</td>\n",
              "      <td>0.0</td>\n",
              "      <td>970.0</td>\n",
              "      <td>1080.0</td>\n",
              "      <td>1.0</td>\n",
              "      <td>0.0</td>\n",
              "      <td>1.0</td>\n",
              "      <td>0.0</td>\n",
              "      <td>1.0</td>\n",
              "      <td>1.0</td>\n",
              "      <td>0.0</td>\n",
              "      <td>68.0</td>\n",
              "      <td>0.0</td>\n",
              "      <td>0.0</td>\n",
              "      <td>6.0</td>\n",
              "      <td>0.0</td>\n",
              "      <td>3.0</td>\n",
              "      <td>171.0</td>\n",
              "      <td>0.0</td>\n",
              "    </tr>\n",
              "    <tr>\n",
              "      <th>4070</th>\n",
              "      <td>4751.0</td>\n",
              "      <td>23.324336</td>\n",
              "      <td>0.0</td>\n",
              "      <td>3.0</td>\n",
              "      <td>0.0</td>\n",
              "      <td>173.200000</td>\n",
              "      <td>272.73</td>\n",
              "      <td>24.780</td>\n",
              "      <td>66.040</td>\n",
              "      <td>18.640</td>\n",
              "      <td>52.42</td>\n",
              "      <td>1381.63</td>\n",
              "      <td>1.91364</td>\n",
              "      <td>3.387660</td>\n",
              "      <td>6.02538</td>\n",
              "      <td>1.58060</td>\n",
              "      <td>120.0</td>\n",
              "      <td>90.0</td>\n",
              "      <td>80.0</td>\n",
              "      <td>96.0</td>\n",
              "      <td>0.0</td>\n",
              "      <td>1630.0</td>\n",
              "      <td>1020.0</td>\n",
              "      <td>0.0</td>\n",
              "      <td>0.0</td>\n",
              "      <td>0.0</td>\n",
              "      <td>0.0</td>\n",
              "      <td>0.0</td>\n",
              "      <td>0.0</td>\n",
              "      <td>0.0</td>\n",
              "      <td>56.0</td>\n",
              "      <td>0.0</td>\n",
              "      <td>0.0</td>\n",
              "      <td>3.0</td>\n",
              "      <td>1.0</td>\n",
              "      <td>3.0</td>\n",
              "      <td>151.0</td>\n",
              "      <td>0.0</td>\n",
              "    </tr>\n",
              "  </tbody>\n",
              "</table>\n",
              "<p>10900 rows × 38 columns</p>\n",
              "</div>"
            ],
            "text/plain": [
              "          ID_C      BMI21  ETHANL24  ...  CIGT21.1  ANTA01  CHOLMDCCODE21\n",
              "6868    7994.0  21.391242       0.0  ...       1.0   157.0            0.0\n",
              "1400    1648.0  24.773534       0.0  ...       3.0   167.0            0.0\n",
              "9716   11255.0  26.119929     268.0  ...       1.0   176.0            0.0\n",
              "3844    4476.0  25.825343      32.4  ...       2.0   153.0            0.0\n",
              "402      467.0  38.138204       0.0  ...       2.0   167.0            0.0\n",
              "...        ...        ...       ...  ...       ...     ...            ...\n",
              "2153    2511.0  30.026784       0.0  ...       3.0   174.0            0.0\n",
              "545      640.0  25.688173      56.6  ...       3.0   164.0            0.0\n",
              "2795    3253.0  28.866836       0.0  ...       1.0   166.0            0.0\n",
              "10447  12089.0  30.312357     250.8  ...       3.0   171.0            0.0\n",
              "4070    4751.0  23.324336       0.0  ...       3.0   151.0            0.0\n",
              "\n",
              "[10900 rows x 38 columns]"
            ]
          },
          "metadata": {},
          "execution_count": 178
        }
      ]
    },
    {
      "cell_type": "code",
      "metadata": {
        "id": "5ccf101d"
      },
      "source": [
        "c_test = pd.DataFrame(c_test,columns=csols)"
      ],
      "id": "5ccf101d",
      "execution_count": 179,
      "outputs": []
    },
    {
      "cell_type": "code",
      "metadata": {
        "colab": {
          "base_uri": "https://localhost:8080/"
        },
        "id": "jtIpdV-aG3j5",
        "outputId": "9ca1a762-c9d8-483e-f242-181877c6d44a"
      },
      "source": [
        "clf = LogisticRegression(C=1.0, penalty= 'l2', solver='liblinear',class_weight='balanced').fit(c_train, y_train)\n",
        "pred_visit_3 = clf.predict(c_test)\n",
        "\n",
        "accuracy_score(pred_visit_3,d_test)"
      ],
      "id": "jtIpdV-aG3j5",
      "execution_count": 180,
      "outputs": [
        {
          "output_type": "execute_result",
          "data": {
            "text/plain": [
              "0.5220102714600147"
            ]
          },
          "metadata": {},
          "execution_count": 180
        }
      ]
    },
    {
      "cell_type": "code",
      "metadata": {
        "colab": {
          "base_uri": "https://localhost:8080/",
          "height": 281
        },
        "id": "MApeRK9JG3mW",
        "outputId": "630ca647-f6fe-457c-ce92-0676958367b2"
      },
      "source": [
        "%matplotlib inline\n",
        "\n",
        "plt.bar(list(range(1,39)),clf.coef_.ravel())\n",
        "plt.title(\"MEDIAN1\")\n",
        "plt.show()\n",
        "plt.close()"
      ],
      "id": "MApeRK9JG3mW",
      "execution_count": 205,
      "outputs": [
        {
          "output_type": "display_data",
          "data": {
            "image/png": "[encoded data removed]",
            "text/plain": [
              "<Figure size 432x288 with 1 Axes>"
            ]
          },
          "metadata": {
            "needs_background": "light"
          }
        }
      ]
    },
    {
      "cell_type": "code",
      "metadata": {
        "colab": {
          "base_uri": "https://localhost:8080/",
          "height": 281
        },
        "id": "R5gYLlWkG3o8",
        "outputId": "6f6e1f18-a861-4144-c205-bbd42f4ef89f"
      },
      "source": [
        "d_pred_proba = clf.predict_proba(c_test)[::,1]\n",
        "fpr, tpr, _ = metrics.roc_curve(d_test,  d_pred_proba)\n",
        "auc = metrics.roc_auc_score(d_test, d_pred_proba)\n",
        "plt.plot(fpr,tpr,label=\"data 2, auc=\"+str(auc))\n",
        "plt.legend(loc=4)\n",
        "plt.title(\"MEDIAN1\")\n",
        "plt.show()"
      ],
      "id": "R5gYLlWkG3o8",
      "execution_count": 203,
      "outputs": [
        {
          "output_type": "display_data",
          "data": {
            "image/png": "[encoded data removed]",
            "text/plain": [
              "<Figure size 432x288 with 1 Axes>"
            ]
          },
          "metadata": {
            "needs_background": "light"
          }
        }
      ]
    },
    {
      "cell_type": "code",
      "metadata": {
        "id": "RAWkx-F8G3rE"
      },
      "source": [
        "fpr, tpr, _ = metrics.roc_curve(d_test,  d_pred_proba)\n",
        "auc = metrics.roc_auc_score(d_test, d_pred_proba)"
      ],
      "id": "RAWkx-F8G3rE",
      "execution_count": 184,
      "outputs": []
    },
    {
      "cell_type": "code",
      "metadata": {
        "id": "63-JSbcnG3uo"
      },
      "source": [
        "test = SelectKBest(score_func=f_classif, k=5)\n",
        "fit = test.fit(imputed_c, y2)"
      ],
      "id": "63-JSbcnG3uo",
      "execution_count": 186,
      "outputs": []
    },
    {
      "cell_type": "code",
      "metadata": {
        "colab": {
          "base_uri": "https://localhost:8080/"
        },
        "id": "9p5Nl8P6LS5y",
        "outputId": "e33e422c-b5d5-47fa-efff-5141b1ecaa9e"
      },
      "source": [
        "fit.get_feature_names_out(input_features=ccols)"
      ],
      "id": "9p5Nl8P6LS5y",
      "execution_count": 193,
      "outputs": [
        {
          "output_type": "execute_result",
          "data": {
            "text/plain": [
              "array(['HDLSIU21', 'SBPB15', 'HYPTMDC#N/AD21', 'V2AG22', 'DIABTS22'],\n",
              "      dtype=object)"
            ]
          },
          "metadata": {},
          "execution_count": 193
        }
      ]
    },
    {
      "cell_type": "code",
      "metadata": {
        "id": "N5eT77UeKiVT"
      },
      "source": [
        "fi = {f:score for f,score in zip(range(0,39),list(fit.scores_))}"
      ],
      "id": "N5eT77UeKiVT",
      "execution_count": 194,
      "outputs": []
    },
    {
      "cell_type": "code",
      "metadata": {
        "id": "XWJwhdjiKibb"
      },
      "source": [
        "import operator\n",
        "sorted_x = sorted(fi.items(), key=operator.itemgetter(1),reverse=True)"
      ],
      "id": "XWJwhdjiKibb",
      "execution_count": 195,
      "outputs": []
    },
    {
      "cell_type": "code",
      "metadata": {
        "colab": {
          "base_uri": "https://localhost:8080/"
        },
        "id": "DhV7uHqgMc6K",
        "outputId": "335e42b2-57ec-404a-9e94-1b983d438aae"
      },
      "source": [
        "sorted_x[:4]"
      ],
      "id": "DhV7uHqgMc6K",
      "execution_count": 197,
      "outputs": [
        {
          "output_type": "execute_result",
          "data": {
            "text/plain": [
              "[(32, 456.20544805810806),\n",
              " (27, 449.70077816349755),\n",
              " (30, 350.6054038009577),\n",
              " (16, 331.6988181092745)]"
            ]
          },
          "metadata": {},
          "execution_count": 197
        }
      ]
    },
    {
      "cell_type": "code",
      "metadata": {
        "colab": {
          "base_uri": "https://localhost:8080/",
          "height": 286
        },
        "id": "HuLbBiDAKid8",
        "outputId": "b2b42a11-4998-4474-fd94-7d25aba78eb1"
      },
      "source": [
        "import numpy as np\n",
        "import matplotlib.pyplot as plt\n",
        "popularity_data = sorted_x[:10]\n",
        "\n",
        "people = list(zip(*popularity_data))[0]\n",
        "score = list(zip(*popularity_data))[1]\n",
        "x_pos = np.arange(len(people)) \n",
        "\n",
        "plt.figure(figsize=(15,5))\n",
        "plt.bar(imputed_c.columns[list(people)],score)\n",
        "plt.xticks(imputed_c.columns[list(people)])\n",
        "plt.title(\"MEDIAN1\")\n",
        "plt.show()"
      ],
      "id": "HuLbBiDAKid8",
      "execution_count": 204,
      "outputs": [
        {
          "output_type": "display_data",
          "data": {
            "image/png": "[encoded data removed]",
            "text/plain": [
              "<Figure size 1080x360 with 1 Axes>"
            ]
          },
          "metadata": {
            "needs_background": "light"
          }
        }
      ]
    }
  ]
}